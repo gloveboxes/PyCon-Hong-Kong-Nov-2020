{
  "cells": [
    {
      "metadata": {
        "trusted": true
      },
      "cell_type": "code",
      "source": [
        "from IPython import get_ipython\n"
      ],
      "execution_count": null,
      "outputs": []
    },
    {
      "metadata": {
        "trusted": true
      },
      "cell_type": "code",
      "source": [
        "# https://notebooks.azure.com/Microsoft/projects/2018-data-access/html/Access%20your%20data%20in%20Azure%20Notebooks.ipynb\n",
        "!pip3 install --upgrade pip\n",
        "\n",
        "!pip3 install matplotlib\n",
        "!pip3 install azure-cosmosdb-table \n",
        "!pip3 install azure-cosmos\n"
      ],
      "execution_count": null,
      "outputs": []
    },
    {
      "metadata": {
        "trusted": false
      },
      "cell_type": "code",
      "source": [
        "table_name = 'IoTEdgeImageClassifier'\n",
        "storageConnectionString =                                                                               \"SharedAccessSignature=sv=2019-12-12&ss=btqf&srt=sco&st=2020-11-06T00%3A04%3A04Z&se=2020-11-07T00%3A04%3A04Z&sp=rl&sig=PaE9Vvb6QmVZWE9KtxVUDlnTZmbWjvrJM%2BfAkExi7tw%3D;BlobEndpoint=https://gloveboxau.blob.core.windows.net/;FileEndpoint=https://gloveboxau.file.core.windows.net/;QueueEndpoint=https://gloveboxau.queue.core.windows.net/;TableEndpoint=https://gloveboxau.table.core.windows.net/;\"\n",
        "\n"
      ],
      "execution_count": null,
      "outputs": []
    },
    {
      "metadata": {
        "trusted": false
      },
      "cell_type": "code",
      "source": [
        "from azure.cosmosdb.table.tableservice import TableService\n",
        "from matplotlib import pyplot as plt\n",
        "# import IPython\n",
        "# import pandas\n",
        "# import numpy as np\n",
        "\n"
      ],
      "execution_count": null,
      "outputs": []
    },
    {
      "metadata": {
        "trusted": false
      },
      "cell_type": "code",
      "source": [
        "table_service = TableService(connection_string=storageConnectionString)\n",
        "\n",
        "# Query the table\n",
        "queried_entities = table_service.query_entities(table_name, filter=\"PartitionKey eq 'Forbes'\")\n",
        "data = [i for i in queried_entities]\n",
        "print(data)\n",
        "\n"
      ],
      "execution_count": null,
      "outputs": []
    },
    {
      "metadata": {
        "trusted": false
      },
      "cell_type": "code",
      "source": [
        "x = []\n",
        "y = []\n",
        "\n",
        "for item in data:\n",
        "    x.append(item.get('tagName'))\n",
        "    y.append(item.get('Count'))\n",
        "\n",
        "\n",
        "plt.bar(x, y)\n",
        "plt.show()\n",
        "\n"
      ],
      "execution_count": null,
      "outputs": []
    },
    {
      "metadata": {
        "trusted": false
      },
      "cell_type": "code",
      "source": [
        "\n",
        "\n",
        "\n"
      ],
      "execution_count": null,
      "outputs": []
    }
  ],
  "metadata": {
    "language_info": {
      "mimetype": "text/x-python",
      "nbconvert_exporter": "python",
      "name": "python",
      "pygments_lexer": "ipython2",
      "version": "3.8.5-final",
      "file_extension": ".py",
      "codemirror_mode": {
        "version": 2,
        "name": "ipython"
      }
    },
    "file_extension": ".py",
    "mimetype": "text/x-python",
    "name": "python",
    "npconvert_exporter": "python",
    "pygments_lexer": "ipython3",
    "version": 3,
    "kernelspec": {
      "name": "Python 3.8.5 64-bit",
      "display_name": "Python 3.8.5 64-bit",
      "metadata": {
        "interpreter": {
          "hash": "916dbcbb3f70747c44a77c7bcd40155683ae19c65e1c03b4aa3499c5328201f1"
        }
      }
    }
  },
  "nbformat": 4,
  "nbformat_minor": 1
}